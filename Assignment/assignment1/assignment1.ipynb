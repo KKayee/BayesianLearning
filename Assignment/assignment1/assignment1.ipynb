{
 "cells": [
  {
   "cell_type": "markdown",
   "metadata": {},
   "source": [
    "# Assignment 1"
   ]
  },
  {
   "cell_type": "markdown",
   "metadata": {},
   "source": [
    "#### Due: 4/19/2021"
   ]
  },
  {
   "cell_type": "markdown",
   "metadata": {},
   "source": [
    "<img align=\"right\" width=\"400\" height=\"200\" src=\"among_us.png\">\n",
    "\n",
    "The file `data.csv` contains data on wins for 1,500 different players for the computer game Among Us. A win is indicated as y=1, otherwise y=0. The player index is the second column (\"player\"). Some players have played many games - others have played fewer games. For example, the first player has played 24 games (and won 12), whereas player 3 has played 35 games (and won 18). In this assignment you are asked to try to make statements about each of the 1,500 players abilities. \n",
    "\n",
    "Assume for simplicity that each player's ability is fixed (so there is no learning), and that player $i$'s  win probability is only a function of player $i$'s ability. We will define ability on the logit scale so that player $i$'s win probability in game $j$ is "
   ]
  },
  {
   "cell_type": "markdown",
   "metadata": {},
   "source": [
    "$$\n",
    "{\\rm Pr}(Y_{ij}=1|\\alpha_i) = \\frac{ \\exp(\\alpha_i)}{ 1.0 + \\exp(\\alpha_i)}, \\qquad j=1,\\dots,N_i.\n",
    "$$"
   ]
  },
  {
   "cell_type": "markdown",
   "metadata": {},
   "source": [
    "Note 1: This is synthetic (i.e., simulated) data - so in this case we know each player’s actual latent ability.\n",
    "\n",
    "Note 2: You can use any software you wish to solve this assignment (Python, R, Julia, Excel (just kidding - please don’t use Excel….) )"
   ]
  },
  {
   "cell_type": "markdown",
   "metadata": {},
   "source": [
    "## Question 1"
   ]
  },
  {
   "cell_type": "markdown",
   "metadata": {},
   "source": [
    "Let's start by using a simple **ad-hoc** estimate of each player's ability. Let $\\bar y_i \\in [0,1]$ be player $i$'s observed win ratio (e.g., 0.21). Then a simple estimate of player $i$'s ability is the $\\hat \\alpha_i$ that solves "
   ]
  },
  {
   "cell_type": "markdown",
   "metadata": {},
   "source": [
    "$$\n",
    "\\bar y_i = \\frac{ \\exp(\\hat \\alpha_i)}{ 1.0 + \\exp(\\hat \\alpha_i)}\n",
    "$$"
   ]
  },
  {
   "cell_type": "markdown",
   "metadata": {},
   "source": [
    "Using this estimate, find the top 10 worst players and their estimated ability."
   ]
  },
  {
   "cell_type": "code",
   "execution_count": 1,
   "metadata": {},
   "outputs": [],
   "source": [
    "#Code Here"
   ]
  },
  {
   "cell_type": "markdown",
   "metadata": {},
   "source": [
    "## Question 2"
   ]
  },
  {
   "cell_type": "markdown",
   "metadata": {},
   "source": [
    "Can you think of a potential problem with the $\\hat \\alpha_i$ estimate above? (Hint: try to look at the top 10 **best** players rather than the top 10 worst)"
   ]
  },
  {
   "cell_type": "code",
   "execution_count": 2,
   "metadata": {},
   "outputs": [],
   "source": [
    "#Code Here"
   ]
  },
  {
   "cell_type": "code",
   "execution_count": 3,
   "metadata": {},
   "outputs": [],
   "source": [
    "#Explanation Here"
   ]
  },
  {
   "cell_type": "markdown",
   "metadata": {},
   "source": [
    "## Question 3"
   ]
  },
  {
   "cell_type": "markdown",
   "metadata": {},
   "source": [
    "Since this is synthetic data, we can compare the estimates in Question 1 to the true correct abilities $\\lbrace \\alpha_i \\rbrace_{i=1}^{1500}$. These can be found in the file `parameters.csv`."
   ]
  },
  {
   "cell_type": "markdown",
   "metadata": {},
   "source": [
    "### A"
   ]
  },
  {
   "cell_type": "markdown",
   "metadata": {},
   "source": [
    "Create a scatter plot with the true abilities $\\alpha_i$ on the x-axis and the estimated abilities $\\hat \\alpha_i$ on the y-axis. (Note: You can just drop the estimate for player 499). What would you say about these estimates? Do they track the true abilities well?"
   ]
  },
  {
   "cell_type": "code",
   "execution_count": 4,
   "metadata": {},
   "outputs": [],
   "source": [
    "#Code Here"
   ]
  },
  {
   "cell_type": "code",
   "execution_count": 5,
   "metadata": {},
   "outputs": [],
   "source": [
    "#Explanation Here"
   ]
  },
  {
   "cell_type": "markdown",
   "metadata": {},
   "source": [
    "### B"
   ]
  },
  {
   "cell_type": "markdown",
   "metadata": {},
   "source": [
    "Now divide all players into four groups depending on the number of games they have played: (1) <= 15 games, (2) 16 to 25 games, (3) 26 to 40 games and (4) more than 40 games.\n",
    "\n",
    "Now redo the scatter plot above but ONLY for players in the lowest group (<= 15 games) and the highest group (more than 40 games). Indicate which group a player belongs to by two colors so you can separate them on the scatter plot. \n",
    "\n",
    "Which of the two groups have the smallest prediction errors?"
   ]
  },
  {
   "cell_type": "code",
   "execution_count": 6,
   "metadata": {},
   "outputs": [],
   "source": [
    "#Code Here"
   ]
  },
  {
   "cell_type": "code",
   "execution_count": 7,
   "metadata": {},
   "outputs": [],
   "source": [
    "#Explanation Here"
   ]
  },
  {
   "cell_type": "markdown",
   "metadata": {},
   "source": [
    "### C"
   ]
  },
  {
   "cell_type": "markdown",
   "metadata": {},
   "source": [
    "Define root mean square error (RMSE) as\n",
    "\n",
    "$$\n",
    "{\\rm RMSE}(\\hat \\alpha) = \\sqrt{ \\frac{1}{N} \\sum_{i=1}^N (\\hat \\alpha_i - \\alpha_i )^2 }\n",
    "$$"
   ]
  },
  {
   "cell_type": "markdown",
   "metadata": {},
   "source": [
    "(1) Calculate the overall RMSE (for all players - except player 499) and (2) Calculate RMSE for each of the four observation groups (making sure to normalize by the correct group size)"
   ]
  },
  {
   "cell_type": "code",
   "execution_count": 8,
   "metadata": {},
   "outputs": [],
   "source": [
    "#Code Here"
   ]
  },
  {
   "cell_type": "code",
   "execution_count": 9,
   "metadata": {},
   "outputs": [],
   "source": [
    "#Code Here"
   ]
  },
  {
   "cell_type": "markdown",
   "metadata": {},
   "source": [
    "## Question 4"
   ]
  },
  {
   "cell_type": "markdown",
   "metadata": {},
   "source": [
    "Now let's try to learn about player's abilities using a Bayesian approach. We will use the following model:\n",
    "$$\n",
    "\\begin{aligned}\n",
    "{\\rm Pr}(Y_{ij}=1|\\alpha_i) & = \\frac{ \\exp(\\alpha_i)}{ 1.0 + \\exp(\\alpha_i)}, \\qquad j=1,\\dots,N_i;~i=1,\\dots,N, \\\\\n",
    "\\alpha_i|\\mu,\\sigma & \\sim {\\rm N}(\\mu,\\sigma^2), \\qquad i=1,\\dots,N,\\\\\n",
    "\\mu & \\sim {\\rm N}(0,5^2), \\\\\n",
    "\\sigma & \\sim {\\rm Cauchy}_+ (0,2.5).\n",
    "\\end{aligned}\n",
    "$$"
   ]
  },
  {
   "cell_type": "markdown",
   "metadata": {},
   "source": [
    "The parameters of the model are $\\lbrace \\alpha_i \\rbrace_{i=1}^N,\\mu,\\sigma$ with $\\mu$ being the overall mean ability and $\\sigma$ determining the dispersion - and the amount of shrinkage applied to the $\\alpha_i$'s towards $\\mu$.\n",
    "\n",
    "This model has been coded in the probabilistic language **Stan**  (see the model file `MLM_binomial.stan`). The model has already been trained - you do NOT need to re-train it for this assignment (although you can if you want - the script that was used to train the model is `run_stan.r`). The file `thetaDrawsM1.csv` contains the results. This file has three columns and 3,000,000 rows. The rows are 2,000 random draws from the posterior of each player's ability $\\alpha_i$ (so 2,000*1,500 = 3 million in total). The first column is index for each draw (1 to 2000), then player index and finally the value of $\\alpha_i$ for that draw."
   ]
  },
  {
   "cell_type": "markdown",
   "metadata": {},
   "source": [
    "### A\n",
    "\n",
    "Calculate the posterior expectation of each $\\alpha_i$ (hint: just take the average of the draws for each player) and find the top 10 worst players according to the posterior expectation of ability. Do you get the same 10 players as in Question 1?"
   ]
  },
  {
   "cell_type": "code",
   "execution_count": 10,
   "metadata": {},
   "outputs": [],
   "source": [
    "#Code Here"
   ]
  },
  {
   "cell_type": "code",
   "execution_count": 11,
   "metadata": {},
   "outputs": [],
   "source": [
    "#Explanation Here"
   ]
  },
  {
   "cell_type": "markdown",
   "metadata": {},
   "source": [
    "### B\n",
    "\n",
    "Now find the top 10 best players according to their posterior expected ability."
   ]
  },
  {
   "cell_type": "code",
   "execution_count": 12,
   "metadata": {},
   "outputs": [],
   "source": [
    "#Code Here"
   ]
  },
  {
   "cell_type": "markdown",
   "metadata": {},
   "source": [
    "### C \n",
    "What happened to the \"problem\" player 499 from Question 2? What is the position of player 499 in terms of posterior expectation? Can you explain this player's new position? (Recall that this player had a perfect 100% win percentage - why is she not the number 1 player in the Bayes analysis?)"
   ]
  },
  {
   "cell_type": "code",
   "execution_count": 13,
   "metadata": {},
   "outputs": [],
   "source": [
    "#Code Here"
   ]
  },
  {
   "cell_type": "code",
   "execution_count": 14,
   "metadata": {},
   "outputs": [],
   "source": [
    "#Explanation Here"
   ]
  },
  {
   "cell_type": "markdown",
   "metadata": {},
   "source": [
    "### D\n",
    "\n",
    "Plot the Bayes estimates and the ad-hoc estimates $\\hat \\alpha_i$ on the Y-axis in a scatter plot with the true $\\alpha_i$ on the X-axis (with two different colors for the two estimates so you can tell them apart). Which do you prefer?"
   ]
  },
  {
   "cell_type": "code",
   "execution_count": 15,
   "metadata": {},
   "outputs": [],
   "source": [
    "#Code Here"
   ]
  },
  {
   "cell_type": "code",
   "execution_count": 16,
   "metadata": {},
   "outputs": [],
   "source": [
    "#Answer/Explanation Here"
   ]
  },
  {
   "cell_type": "markdown",
   "metadata": {},
   "source": [
    "### E\n",
    "\n",
    "Calculate the overall RSME and the RMSE for each of the four observation count groups for the Bayes estimates. How do they compare to the RMSE for the ad-hoc estimates?"
   ]
  },
  {
   "cell_type": "code",
   "execution_count": 17,
   "metadata": {},
   "outputs": [],
   "source": [
    "#Code here"
   ]
  },
  {
   "cell_type": "code",
   "execution_count": 18,
   "metadata": {},
   "outputs": [],
   "source": [
    "#Code Here"
   ]
  },
  {
   "cell_type": "code",
   "execution_count": 19,
   "metadata": {},
   "outputs": [],
   "source": [
    "#Explanation Here"
   ]
  }
 ],
 "metadata": {
  "kernelspec": {
   "display_name": "Python 3",
   "language": "python",
   "name": "python3"
  },
  "language_info": {
   "codemirror_mode": {
    "name": "ipython",
    "version": 3
   },
   "file_extension": ".py",
   "mimetype": "text/x-python",
   "name": "python",
   "nbconvert_exporter": "python",
   "pygments_lexer": "ipython3",
   "version": "3.8.5"
  }
 },
 "nbformat": 4,
 "nbformat_minor": 4
}
